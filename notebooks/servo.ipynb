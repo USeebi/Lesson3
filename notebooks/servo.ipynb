{
 "cells": [
  {
   "cell_type": "code",
   "execution_count": null,
   "id": "974cc7f8",
   "metadata": {},
   "outputs": [],
   "source": [
    "#!roslaunch tarkbot_robot robot.launch"
   ]
  },
  {
   "cell_type": "code",
   "execution_count": 23,
   "id": "798673fa-e23e-4c11-b187-8cabecfa89e7",
   "metadata": {
    "tags": []
   },
   "outputs": [],
   "source": [
    "# Import necessary libraries\n",
    "import rospy\n",
    "from geometry_msgs.msg import Twist\n",
    "from tarkbot_robot.msg import JointCmd\n",
    "import time\n",
    "#import jupyros"
   ]
  },
  {
   "cell_type": "code",
   "execution_count": 3,
   "id": "268b406d-559c-419a-94af-817c48a4f535",
   "metadata": {
    "tags": []
   },
   "outputs": [],
   "source": [
    "# https://blog.csdn.net/sy779872934/article/details/110849275\n",
    "rospy.init_node('jupyter_node', anonymous = True)"
   ]
  },
  {
   "cell_type": "code",
   "execution_count": 4,
   "id": "baeb6292-0ae0-4dac-8f76-f5a0027b7357",
   "metadata": {
    "tags": []
   },
   "outputs": [],
   "source": [
    "# Create a publisher with latching\n",
    "servo_pub = rospy.Publisher('/arm/arm_set', JointCmd, queue_size=10, latch=True)"
   ]
  },
  {
   "cell_type": "code",
   "execution_count": 5,
   "id": "a2f7fedb-201c-462b-b1cf-f4702cef7749",
   "metadata": {
    "tags": []
   },
   "outputs": [],
   "source": [
    "servo = JointCmd()"
   ]
  },
  {
   "cell_type": "code",
   "execution_count": 6,
   "id": "c0500030-abdb-4881-84f5-0ac3ac6575fb",
   "metadata": {
    "tags": []
   },
   "outputs": [],
   "source": [
    "servo.joint_pos = [-0.5, -1.0, 0.0, 0.0, 0.0, 0.0]\n",
    "servo_pub.publish(servo)"
   ]
  },
  {
   "cell_type": "code",
   "execution_count": 7,
   "id": "24868b44-f98a-4edc-9324-fdb804a1e16d",
   "metadata": {
    "collapsed": true,
    "jupyter": {
     "outputs_hidden": true
    },
    "tags": []
   },
   "outputs": [
    {
     "data": {
      "application/vnd.jupyter.widget-view+json": {
       "model_id": "91400fbf18aa46c9a725f7e8881b5736",
       "version_major": 2,
       "version_minor": 0
      },
      "text/plain": [
       "VBox(children=(HBox(children=(Button(description='Stop', style=ButtonStyle()),)), Output(layout=Layout(border=…"
      ]
     },
     "metadata": {},
     "output_type": "display_data"
    }
   ],
   "source": [
    "import jupyros as jr\n",
    "from tarkbot_robot.msg import JointState\n",
    "\n",
    "jr.subscribe('/arm/arm_state', JointState, lambda msg: print(msg))"
   ]
  },
  {
   "cell_type": "code",
   "execution_count": null,
   "id": "b319402e-3710-47df-b4e7-03302da312ae",
   "metadata": {},
   "outputs": [],
   "source": []
  }
 ],
 "metadata": {
  "kernelspec": {
   "display_name": "Python 3 (ipykernel)",
   "language": "python",
   "name": "python3"
  },
  "language_info": {
   "codemirror_mode": {
    "name": "ipython",
    "version": 3
   },
   "file_extension": ".py",
   "mimetype": "text/x-python",
   "name": "python",
   "nbconvert_exporter": "python",
   "pygments_lexer": "ipython3",
   "version": "3.8.10"
  }
 },
 "nbformat": 4,
 "nbformat_minor": 5
}
